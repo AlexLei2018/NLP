{
  "cells": [
    {
      "cell_type": "markdown",
      "metadata": {
        "id": "view-in-github",
        "colab_type": "text"
      },
      "source": [
        "<a href=\"https://colab.research.google.com/github/AlexLei2018/NLP/blob/main/cifar10_tutorial.ipynb\" target=\"_parent\"><img src=\"https://colab.research.google.com/assets/colab-badge.svg\" alt=\"Open In Colab\"/></a>"
      ]
    },
    {
      "cell_type": "markdown",
      "metadata": {
        "id": "SUNyfCy6eViA"
      },
      "source": [
        "## 1. Loading and normalizing CIFAR10"
      ]
    },
    {
      "cell_type": "code",
      "execution_count": 1,
      "metadata": {
        "tags": [],
        "id": "zGfgi5OueViC"
      },
      "outputs": [],
      "source": [
        "import torch\n",
        "import torchvision\n",
        "import torchvision.transforms as transforms"
      ]
    },
    {
      "cell_type": "code",
      "execution_count": 2,
      "metadata": {
        "tags": [],
        "id": "vyjXPCyzeViD"
      },
      "outputs": [],
      "source": [
        "transform = transforms.Compose([\n",
        "    # 将一个 PIL Image 或者 numpy.ndarray（H x W x C）转化为 torch.Tensor（C x H x W），\n",
        "    # 并且归一化到 [0, 1]。这一步是为了把图像转化为 PyTorch 可以处理的数据类型\n",
        "    transforms.ToTensor(),\n",
        "    # Normalize 这个函数是进行标准化处理。它接收两个参数：一个是均值，一个是标准差。\n",
        "    # 这里的 (0.5, 0.5, 0.5) 表示 RGB 三个通道的均值和标准差。\n",
        "    # 对每个通道进行如下操作： image = (image - mean) / std,\n",
        "    # 假设原来的像素值是 [0, 1]，那么这个操作之后的像素值就会变成 [-1, 1],\n",
        "    # 这个操作可以使得模型训练过程中的数值更稳定。\n",
        "    transforms.Normalize((0.5, 0.5, 0.5), (0.5, 0.5, 0.5))\n",
        "])"
      ]
    },
    {
      "cell_type": "code",
      "execution_count": 3,
      "metadata": {
        "tags": [],
        "colab": {
          "base_uri": "https://localhost:8080/"
        },
        "id": "z8PE4ZhFeViF",
        "outputId": "996e17eb-9b54-4aae-dab2-6a27bb7c457e"
      },
      "outputs": [
        {
          "output_type": "stream",
          "name": "stdout",
          "text": [
            "Downloading https://www.cs.toronto.edu/~kriz/cifar-10-python.tar.gz to ./data/cifar-10-python.tar.gz\n"
          ]
        },
        {
          "output_type": "stream",
          "name": "stderr",
          "text": [
            "100%|██████████| 170498071/170498071 [00:04<00:00, 40128568.25it/s]\n"
          ]
        },
        {
          "output_type": "stream",
          "name": "stdout",
          "text": [
            "Extracting ./data/cifar-10-python.tar.gz to ./data\n"
          ]
        },
        {
          "output_type": "stream",
          "name": "stderr",
          "text": [
            "/usr/local/lib/python3.10/dist-packages/torch/utils/data/dataloader.py:558: UserWarning: This DataLoader will create 12 worker processes in total. Our suggested max number of worker in current system is 2, which is smaller than what this DataLoader is going to create. Please be aware that excessive worker creation might get DataLoader running slow or even freeze, lower the worker number to avoid potential slowness/freeze if necessary.\n",
            "  warnings.warn(_create_warning_msg(\n"
          ]
        },
        {
          "output_type": "stream",
          "name": "stdout",
          "text": [
            "Files already downloaded and verified\n"
          ]
        }
      ],
      "source": [
        "# CIFAR-10 是一个常用的图像分类数据集，包含 60000 张 32x32 的彩色图片，有 10 个类别。\n",
        "\n",
        "trainset = torchvision.datasets.CIFAR10(root='./data', # 指定了数据集的下载路径\n",
        "                                        train=True, # 表示加载的是训练集\n",
        "                                        download=True, # 表示如果数据集没有在指定路径下找到，那么就下载数据集。如果数据集已经存在，那么这个参数没有作用。\n",
        "                                        transform=transform # 指定了一个数据预处理的函数\n",
        "                                        )\n",
        "# 创建一个数据加载器，这个加载器可以在训练模型时批量加载数据。\n",
        "trainloader = torch.utils.data.DataLoader(trainset, # 是你要加载的数据集\n",
        "                                          batch_size=4, # 指定每个 batch 的大小，也就是每次模型训练时输入的数据量。\n",
        "                                          shuffle=True, # 指在每个 epoch 开始时，要不要把数据打乱。这在训练模型时是一种常用的方式，可以增强模型的泛化能力。\n",
        "                                          num_workers=12 # 指定使用多少个子进程来加载数据\n",
        "                                          )\n",
        "\n",
        "testset = torchvision.datasets.CIFAR10(root='./data',\n",
        "                                       train=False,\n",
        "                                       download=True,\n",
        "                                       transform=transform)\n",
        "testloader = torch.utils.data.DataLoader(testset,\n",
        "                                         batch_size=4,\n",
        "                                         shuffle=False,\n",
        "                                         num_workers=12)"
      ]
    },
    {
      "cell_type": "code",
      "execution_count": 4,
      "metadata": {
        "tags": [],
        "id": "h4XlyGCyeViG"
      },
      "outputs": [],
      "source": [
        "# 10个类别\n",
        "classes = ('plane', 'car', 'bird', 'cat', 'deer', 'dog', 'frog', 'horse',\n",
        "           'ship', 'truck')"
      ]
    },
    {
      "cell_type": "code",
      "execution_count": 5,
      "metadata": {
        "tags": [],
        "id": "Mg67HXvQeViH"
      },
      "outputs": [],
      "source": [
        "import matplotlib.pyplot as plt\n",
        "import numpy as np\n",
        "\n",
        "def imshow(img):\n",
        "    # 显示一个图像,这个图像是一个PyTorch的Tensor，具有3个维度，分别代表颜色通道、高度和宽度 (C, H, W)\n",
        "    img = img / 2 + 0.5  # 对图像数据进行反标准化, 标准化后的图像的像素值是在[-1, 1]之间, 反标准化就是将这些值再变回原来的[0, 1]区间。\n",
        "    npimg = img.numpy() # 将 Tensor 转化为 NumPy 数组\n",
        "    plt.imshow(np.transpose(npimg, (1, 2, 0))) # 使用了np.transpose方法对图像的维度进行了调换，Matplotlib希望的输入是（H, W, C）形式的，所以需要进行转换。\n",
        "    plt.show()"
      ]
    },
    {
      "cell_type": "code",
      "execution_count": 6,
      "metadata": {
        "tags": [],
        "colab": {
          "base_uri": "https://localhost:8080/"
        },
        "id": "_6d5f6hHeViI",
        "outputId": "40f08990-c3a1-437f-c347-8264e4179f5f"
      },
      "outputs": [
        {
          "output_type": "stream",
          "name": "stderr",
          "text": [
            "/usr/lib/python3.10/multiprocessing/popen_fork.py:66: RuntimeWarning: os.fork() was called. os.fork() is incompatible with multithreaded code, and JAX is multithreaded, so this will likely lead to a deadlock.\n",
            "  self.pid = os.fork()\n"
          ]
        }
      ],
      "source": [
        "# 创建了一个迭代器，这个迭代器可以从trainloader中一次获取一个batch的数据。\n",
        "dataiter = iter(trainloader)\n",
        "# 使用next函数从dataiter中获取了一个batch的数据，这个batch包含了4张图像（因为batch_size=4）以及这些图像对应的标签。\n",
        "images, labels = next(dataiter)"
      ]
    },
    {
      "cell_type": "code",
      "execution_count": 7,
      "metadata": {
        "tags": [],
        "colab": {
          "base_uri": "https://localhost:8080/",
          "height": 210
        },
        "id": "TH1Ai0LTeViI",
        "outputId": "9f264b60-e3a2-4fb8-8bd0-afed8d81b264"
      },
      "outputs": [
        {
          "output_type": "display_data",
          "data": {
            "text/plain": [
              "<Figure size 640x480 with 1 Axes>"
            ],
            "image/png": "[encoded data removed]"
          },
          "metadata": {}
        },
        {
          "output_type": "stream",
          "name": "stdout",
          "text": [
            " deer  frog  ship truck\n"
          ]
        }
      ],
      "source": [
        "# 使用了torchvision.utils.make_grid函数，这个函数将多张图像拼接在一起，\n",
        "# 形成一个网格状的大图像。然后用 imshow 函数将这个大图像显示出来。\n",
        "imshow(torchvision.utils.make_grid(images))\n",
        "# 打印出每张图像对应的标签\n",
        "print(' '.join('%5s' % classes[labels[j]] for j in range(4)))"
      ]
    },
    {
      "cell_type": "code",
      "execution_count": 7,
      "metadata": {
        "id": "GGDTKUNteViJ"
      },
      "outputs": [],
      "source": []
    },
    {
      "cell_type": "markdown",
      "metadata": {
        "id": "HNP2zrcZeViJ"
      },
      "source": [
        "## 2. Define a Convolutional Neural Network"
      ]
    },
    {
      "cell_type": "code",
      "execution_count": 8,
      "metadata": {
        "tags": [],
        "id": "ajMG6FKbeViK"
      },
      "outputs": [],
      "source": [
        "import torch.nn as nn\n",
        "import torch.nn.functional as F\n",
        "\n",
        "\n",
        "class Net(nn.Module):\n",
        "    '''特征图尺寸的计算公式为：[(原图片尺寸 — 卷积核尺寸) / 步长 ] + 1'''\n",
        "    def __init__(self):\n",
        "        super(Net, self).__init__()\n",
        "        # 第一个卷积层，输入通道数是3（因为CIFAR-10图像是彩色的，有红绿蓝三个通道），输出通道数是6，卷积核的大小是5x5。\n",
        "        # 输入是32*32*3，计算（32-5）/ 1 + 1 = 28，那么通过conv1输出的结果是28*28*6\n",
        "        self.conv1 = nn.Conv2d(3, 6, 5)\n",
        "        # 最大池化层，窗口大小和步长都是2\n",
        "        # 输入是28*28*6，窗口2*2，计算28 / 2 = 14，那么通过max_pool1层输出结果是14*14*6\n",
        "        self.pool = nn.MaxPool2d(2, 2)\n",
        "        # 第二个卷积层，输入通道数是6（来自上一层的输出），输出通道数是16，卷积核的大小是5x5。\n",
        "        # 输入是14*14*6，计算（14 - 5）/ 1 + 1 = 10，那么通过conv2输出的结果是10*10*16\n",
        "        self.conv2 = nn.Conv2d(6, 16, 5)\n",
        "        # 第一个全连接层，输入节点数是 16 * 5 * 5，输出节点数是 120。\n",
        "        self.fc1 = nn.Linear(16 * 5 * 5, 120)\n",
        "        # 第二个全连接层，输入节点数是 120，输出节点数是 84。\n",
        "        self.fc2 = nn.Linear(120, 84)\n",
        "        # 第三个全连接层，输入节点数是84，输出节点数是10。输出节点数为10是因为CIFAR-10数据集有10个类别。\n",
        "        self.fc3 = nn.Linear(84, 10)\n",
        "\n",
        "    def forward(self, x):\n",
        "        '''定义了网络的前向传播函数。在PyTorch中，只需要定义前向传播函数，\n",
        "        后向传播函数会通过自动求导机制自动生成。这个函数的输入是一个batch的图像数据，\n",
        "        输出是这个batch在每个类别上的得分。'''\n",
        "        # 第一层卷积，然后通过激活函数ReLU，然后进行最大池化。\n",
        "        # 32x32x3 --> 28x28x6 --> 14x14x6\n",
        "        x = self.pool(F.relu(self.conv1(x)))\n",
        "        # 第二层卷积，然后通过激活函数ReLU，然后进行最大池化。\n",
        "        # 14x14x6 --> 10x10x16 --> 5x5x16\n",
        "        x = self.pool(F.relu(self.conv2(x)))\n",
        "        # 将二维的特征图(featue map)展平为一维，准备输入到全连接层。\n",
        "        x = x.view(-1, 16 * 5 * 5)\n",
        "        # 第一个全连接层，然后通过激活函数ReLU\n",
        "        x = F.relu(self.fc1(x))\n",
        "        # 第二个全连接层，然后通过激活函数ReLU\n",
        "        x = F.relu(self.fc2(x))\n",
        "        # 第三个全连接层，输出层\n",
        "        x = self.fc3(x)\n",
        "        # x是网络的输出，是一个大小为（batch_size, 10）的Tensor，每一行代表一个图像在每个类别上的得分。\n",
        "        return x\n"
      ]
    },
    {
      "cell_type": "code",
      "execution_count": 9,
      "metadata": {
        "tags": [],
        "colab": {
          "base_uri": "https://localhost:8080/"
        },
        "id": "bAqx4BtyeViK",
        "outputId": "1a83cc5c-92fb-4d80-e4ab-3bad12cb9bc5"
      },
      "outputs": [
        {
          "output_type": "execute_result",
          "data": {
            "text/plain": [
              "Net(\n",
              "  (conv1): Conv2d(3, 6, kernel_size=(5, 5), stride=(1, 1))\n",
              "  (pool): MaxPool2d(kernel_size=2, stride=2, padding=0, dilation=1, ceil_mode=False)\n",
              "  (conv2): Conv2d(6, 16, kernel_size=(5, 5), stride=(1, 1))\n",
              "  (fc1): Linear(in_features=400, out_features=120, bias=True)\n",
              "  (fc2): Linear(in_features=120, out_features=84, bias=True)\n",
              "  (fc3): Linear(in_features=84, out_features=10, bias=True)\n",
              ")"
            ]
          },
          "metadata": {},
          "execution_count": 9
        }
      ],
      "source": [
        "net = Net()\n",
        "\n",
        "device = torch.device(\"cuda:0\" if torch.cuda.is_available() else \"cpu\")\n",
        "net.to(device)"
      ]
    },
    {
      "cell_type": "code",
      "execution_count": 9,
      "metadata": {
        "id": "sxCbYB3teViL"
      },
      "outputs": [],
      "source": []
    },
    {
      "cell_type": "markdown",
      "metadata": {
        "id": "hT_x2qU0eViL"
      },
      "source": [
        "## 3. Define a Loss function and optimizer"
      ]
    },
    {
      "cell_type": "code",
      "execution_count": 10,
      "metadata": {
        "tags": [],
        "id": "HM5xps1UeViL"
      },
      "outputs": [],
      "source": [
        "import torch.optim as optim\n",
        "\n",
        "# 定义了损失函数，这里使用的是交叉熵损失。对于分类问题，交叉熵损失是一种常用的损失函数。\n",
        "# 这个函数将模型的输出（即在每个类别上的得分）和真实的标签作为输入，计算出一个标量值，代表了模型的损失。\n",
        "# 模型的训练目标就是最小化这个损失。\n",
        "criterion = nn.CrossEntropyLoss()\n",
        "\n",
        "# 在每一步训练中，优化器都会根据损失函数的梯度来更新模型的参数，从而减小损失。\n",
        "optimizer = optim.SGD(net.parameters(), lr=0.001, momentum=0.9)"
      ]
    },
    {
      "cell_type": "code",
      "execution_count": null,
      "metadata": {
        "id": "ZD_6ZS1aeViM"
      },
      "outputs": [],
      "source": []
    },
    {
      "cell_type": "markdown",
      "metadata": {
        "id": "HBR0EjR3eViM"
      },
      "source": [
        "## 4. Train the network"
      ]
    },
    {
      "cell_type": "code",
      "execution_count": null,
      "metadata": {
        "tags": [],
        "colab": {
          "base_uri": "https://localhost:8080/"
        },
        "id": "tpcautYoeViM",
        "outputId": "8e77aa01-b120-43cd-c903-3ef914ffdc4e"
      },
      "outputs": [
        {
          "output_type": "stream",
          "name": "stdout",
          "text": [
            "[1,  2000] loss: 2.198\n",
            "[1,  4000] loss: 1.871\n",
            "[1,  6000] loss: 1.691\n"
          ]
        }
      ],
      "source": [
        "for epoch in range(2):  # loop over the dataset multiple times\n",
        "    running_loss = 0.0\n",
        "    for i, data in enumerate(trainloader, 0):\n",
        "        # 对训练数据集进行遍历，每一次循环，都会从trainloader中取出一个batch的数据。\n",
        "        # get the inputs; data is a list of [inputs, labels]\n",
        "        #inputs, labels = data\n",
        "        # 获取一批训练数据和对应的标签，并将它们移到之前定义的设备（GPU或CPU）上。\n",
        "        inputs, labels = data[0].to(device), data[1].to(device)\n",
        "\n",
        "        # zero the parameter gradients\n",
        "        # 在进行反向传播之前，需要将模型的所有参数的梯度清零。\n",
        "        # 因为PyTorch的特性是累积梯度，如果不清零，梯度会被累积起来而不是被替换。\n",
        "        optimizer.zero_grad()\n",
        "\n",
        "        # forward + backward + optimize\n",
        "        # 前向传播，将输入数据 inputs 传入模型，得到输出 outputs\n",
        "        outputs = net(inputs)\n",
        "        # 将模型的输出outputs和真实的标签labels作为输入，计算得到损失loss。\n",
        "        loss = criterion(outputs, labels)\n",
        "        # 反向传播，计算损失函数关于模型参数的梯度。\n",
        "        loss.backward()\n",
        "        # 优化器根据反向传播计算得到的梯度来更新模型的参数\n",
        "        optimizer.step()\n",
        "\n",
        "        # print statistics\n",
        "        running_loss += loss.item()\n",
        "        # 每2000个mini-batches打印一次平均损失\n",
        "        if i % 2000 == 1999:  # print every 2000 mini-batches\n",
        "            print('[%d, %5d] loss: %.3f' %\n",
        "                  (epoch + 1, i + 1, running_loss / 2000))\n",
        "            # 重置累积损失\n",
        "            running_loss = 0.0\n",
        "\n",
        "print('Finished Training')\n"
      ]
    },
    {
      "cell_type": "code",
      "execution_count": null,
      "metadata": {
        "tags": [],
        "id": "_btMgmCBeViN"
      },
      "outputs": [],
      "source": [
        "# 保存模型\n",
        "\n",
        "PATH = './cifar_net.pth'\n",
        "torch.save(net.state_dict(), PATH)"
      ]
    },
    {
      "cell_type": "code",
      "execution_count": null,
      "metadata": {
        "id": "5KwJkP5peViN"
      },
      "outputs": [],
      "source": []
    },
    {
      "cell_type": "markdown",
      "metadata": {
        "id": "irjsIXNCeViN"
      },
      "source": [
        "## 5. Test the network on the test data"
      ]
    },
    {
      "cell_type": "code",
      "execution_count": null,
      "metadata": {
        "tags": [],
        "id": "cyUgB-3AeViN",
        "outputId": "67725cff-cd3c-442d-c36a-df16cbd8e7da"
      },
      "outputs": [
        {
          "data": {
            "image/png": "[encoded data removed]",
            "text/plain": [
              "<Figure size 640x480 with 1 Axes>"
            ]
          },
          "metadata": {},
          "output_type": "display_data"
        },
        {
          "name": "stdout",
          "output_type": "stream",
          "text": [
            "GroundTruth:    cat  ship  ship plane\n"
          ]
        }
      ],
      "source": [
        "dataiter = iter(testloader)\n",
        "images, labels = next(dataiter)\n",
        "\n",
        "# print images\n",
        "imshow(torchvision.utils.make_grid(images))\n",
        "print('GroundTruth: ', ' '.join('%5s' % classes[labels[j]] for j in range(4)))"
      ]
    },
    {
      "cell_type": "code",
      "execution_count": null,
      "metadata": {
        "tags": [],
        "id": "cPjev7QjeViO",
        "outputId": "31e1e99e-d9e3-4339-a23e-931bad5e44f4"
      },
      "outputs": [
        {
          "data": {
            "text/plain": [
              "<All keys matched successfully>"
            ]
          },
          "execution_count": 14,
          "metadata": {},
          "output_type": "execute_result"
        }
      ],
      "source": [
        "# 从本地加载模型\n",
        "\n",
        "net = Net()\n",
        "net.load_state_dict(torch.load(PATH))"
      ]
    },
    {
      "cell_type": "code",
      "execution_count": null,
      "metadata": {
        "tags": [],
        "id": "rhqILwxkeViO"
      },
      "outputs": [],
      "source": [
        "# 在测试集samples上推理\n",
        "\n",
        "outputs = net(images)"
      ]
    },
    {
      "cell_type": "code",
      "execution_count": null,
      "metadata": {
        "tags": [],
        "id": "Vw036vvdeViO",
        "outputId": "a91179ab-b133-4b2c-8232-e3ed785f71e6"
      },
      "outputs": [
        {
          "name": "stdout",
          "output_type": "stream",
          "text": [
            "tensor([[-0.7150, -2.0877,  1.1045,  3.1839, -0.8417,  1.9952, -0.1561, -0.4149,\n",
            "         -1.1946, -1.9534],\n",
            "        [ 5.5523,  7.7120, -3.4548, -5.1590, -4.2695, -5.5411, -4.7869, -3.8785,\n",
            "          4.4290,  6.2757],\n",
            "        [ 2.2058,  4.7520, -1.3847, -2.0772, -2.6066, -2.6668, -3.0878, -2.2175,\n",
            "          1.8248,  3.7929],\n",
            "        [ 3.5490,  1.1008, -0.5206, -2.2038, -0.4609, -3.8308, -3.6263, -2.3485,\n",
            "          4.7082,  2.1138]], grad_fn=<AddmmBackward0>)\n"
          ]
        }
      ],
      "source": [
        "print(outputs)"
      ]
    },
    {
      "cell_type": "code",
      "execution_count": null,
      "metadata": {
        "tags": [],
        "id": "lmxFE5vMeViO",
        "outputId": "3a0f750f-555d-4a83-e3d4-984413accf70"
      },
      "outputs": [
        {
          "name": "stdout",
          "output_type": "stream",
          "text": [
            "Predicted:    cat   car   car  ship\n"
          ]
        }
      ],
      "source": [
        "# torch.max()函数找到模型输出中每个样本得分最高的类别的索引。\n",
        "# torch.max()函数会返回两个Tensor，第一个Tensor是每行的最大值，第二个Tensor是最大值所在的索引（即预测的类别）。\n",
        "\n",
        "_, predicted = torch.max(outputs, 1)\n",
        "\n",
        "print('Predicted: ', ' '.join('%5s' % classes[predicted[j]] for j in range(4)))"
      ]
    },
    {
      "cell_type": "code",
      "execution_count": null,
      "metadata": {
        "tags": [],
        "id": "TDEWT9KMeViP",
        "outputId": "10f930e1-38e1-4e1a-94a1-2146c48ef14c"
      },
      "outputs": [
        {
          "name": "stdout",
          "output_type": "stream",
          "text": [
            "Accuracy of the network on the 10000 test images: 56 %\n"
          ]
        }
      ],
      "source": [
        "# 评估模型在整个测试集上的性能，它计算了模型的预测正确率（accuracy），即预测正确的样本数量占总样本数量的比例。\n",
        "\n",
        "correct = 0 # 正确预测的数量\n",
        "total = 0 # 总的样本数量\n",
        "# 在评估模型的性能时，不需要更新模型的参数，也就不需要梯度。\n",
        "with torch.no_grad():\n",
        "    # 对测试数据集进行遍历\n",
        "    for data in testloader:\n",
        "        # 获取一批测试数据和对应的标签\n",
        "        images, labels = data\n",
        "        outputs = net(images)\n",
        "        # 找到模型输出中每个样本得分最高的类别的索引，即模型的预测结果。\n",
        "        _, predicted = torch.max(outputs.data, 1)\n",
        "        # 更新总的样本数量，labels.size(0)返回这个batch的样本数量。\n",
        "        total += labels.size(0)\n",
        "        # 更新正确预测的数量\n",
        "        # 首先(predicted==labels)返回一个布尔型的Tensor，表示预测结果和真实标签是否相等。\n",
        "        # 然后，使用sum()函数计算这个batch中预测正确的样本数量，最后使用item()函数将这个数量转换为Python的标量。\n",
        "        correct += (predicted == labels).sum().item()\n",
        "\n",
        "print('Accuracy of the network on the 10000 test images: %d %%' %\n",
        "      (100 * correct / total))"
      ]
    },
    {
      "cell_type": "code",
      "execution_count": null,
      "metadata": {
        "tags": [],
        "id": "g6IuJvwHeViP",
        "outputId": "920806b2-df29-4886-fd2b-f5ed7e35ec93"
      },
      "outputs": [
        {
          "name": "stdout",
          "output_type": "stream",
          "text": [
            "Accuracy of plane : 69 %\n",
            "Accuracy of   car : 61 %\n",
            "Accuracy of  bird : 34 %\n",
            "Accuracy of   cat : 36 %\n",
            "Accuracy of  deer : 53 %\n",
            "Accuracy of   dog : 36 %\n",
            "Accuracy of  frog : 74 %\n",
            "Accuracy of horse : 66 %\n",
            "Accuracy of  ship : 67 %\n",
            "Accuracy of truck : 68 %\n"
          ]
        }
      ],
      "source": [
        "# 评估模型在每个类别上的预测性能，它分别计算了模型在每个类别上的预测正确的样本数量和总的样本数量。\n",
        "\n",
        "class_correct = list(0. for i in range(10)) # 初始化每个类别的正确预测数量\n",
        "class_total = list(0. for i in range(10)) # 总的样本数量\n",
        "with torch.no_grad():\n",
        "    # 每一次循环，都会取出一个batch的数据。\n",
        "    for data in testloader:\n",
        "        # 获取一批测试数据和对应的标签\n",
        "        images, labels = data\n",
        "        outputs = net(images)\n",
        "        # 找到模型输出中每个样本得分最高的类别的索引，即模型的预测结果。\n",
        "        _, predicted = torch.max(outputs, 1)\n",
        "        # (predicted==labels)返回一个布尔型的Tensor，表示预测结果和真实标签是否相等。\n",
        "        # 然后，使用squeeze()函数移除这个Tensor中长度为1的维度，使其变成一个一维Tensor。\n",
        "        c = (predicted == labels).squeeze()\n",
        "        # 对一个batch中的四个样本进行处理\n",
        "        for i in range(4):\n",
        "            # 获取第i个样本的真实标签\n",
        "            label = labels[i]\n",
        "            # 如果模型对第i个样本的预测结果是正确的，那么c[i]的值为1，否则为0。\n",
        "            # 这里将c[i]的值累加到对应类别的正确预测数量中。\n",
        "            class_correct[label] += c[i].item()\n",
        "            # 更新对应类别的总的样本数量\n",
        "            class_total[label] += 1\n",
        "\n",
        "for i in range(10):\n",
        "    print('Accuracy of %5s : %2d %%' %\n",
        "          (classes[i], 100 * class_correct[i] / class_total[i]))"
      ]
    },
    {
      "cell_type": "code",
      "execution_count": null,
      "metadata": {
        "id": "LSOKxk8IeViQ"
      },
      "outputs": [],
      "source": []
    },
    {
      "cell_type": "markdown",
      "metadata": {
        "id": "WxrmgiYKeViQ"
      },
      "source": [
        "## 6. model inference with FastAPI"
      ]
    },
    {
      "cell_type": "code",
      "execution_count": null,
      "metadata": {
        "tags": [],
        "id": "UVwUNRj7eViQ"
      },
      "outputs": [],
      "source": [
        "from fastapi import FastAPI\n",
        "from pydantic import BaseModel\n",
        "from torchvision.transforms import transforms\n",
        "import torch\n",
        "import base64\n",
        "import io\n",
        "from PIL import Image"
      ]
    },
    {
      "cell_type": "code",
      "execution_count": null,
      "metadata": {
        "tags": [],
        "id": "6JshYAIoeViQ"
      },
      "outputs": [],
      "source": [
        "app = FastAPI()"
      ]
    },
    {
      "cell_type": "code",
      "execution_count": null,
      "metadata": {
        "tags": [],
        "id": "AnlVdLVAeViR",
        "outputId": "4b6f7fb4-7523-4c17-eb63-13c043f8bb75"
      },
      "outputs": [
        {
          "data": {
            "text/plain": [
              "Net(\n",
              "  (conv1): Conv2d(3, 6, kernel_size=(5, 5), stride=(1, 1))\n",
              "  (pool): MaxPool2d(kernel_size=2, stride=2, padding=0, dilation=1, ceil_mode=False)\n",
              "  (conv2): Conv2d(6, 16, kernel_size=(5, 5), stride=(1, 1))\n",
              "  (fc1): Linear(in_features=400, out_features=120, bias=True)\n",
              "  (fc2): Linear(in_features=120, out_features=84, bias=True)\n",
              "  (fc3): Linear(in_features=84, out_features=10, bias=True)\n",
              ")"
            ]
          },
          "execution_count": 22,
          "metadata": {},
          "output_type": "execute_result"
        }
      ],
      "source": [
        "# 加载本地的模型\n",
        "\n",
        "model = Net()\n",
        "\n",
        "model.load_state_dict(torch.load(\"cifar_net.pth\"))\n",
        "\n",
        "device = torch.device(\"cuda\" if torch.cuda.is_available() else \"cpu\")\n",
        "\n",
        "model.to(device)\n"
      ]
    },
    {
      "cell_type": "code",
      "execution_count": null,
      "metadata": {
        "tags": [],
        "id": "SUBEPj-0eViR",
        "outputId": "25d093a5-10b1-488f-8465-b48bb5cb7444"
      },
      "outputs": [
        {
          "data": {
            "text/plain": [
              "Net(\n",
              "  (conv1): Conv2d(3, 6, kernel_size=(5, 5), stride=(1, 1))\n",
              "  (pool): MaxPool2d(kernel_size=2, stride=2, padding=0, dilation=1, ceil_mode=False)\n",
              "  (conv2): Conv2d(6, 16, kernel_size=(5, 5), stride=(1, 1))\n",
              "  (fc1): Linear(in_features=400, out_features=120, bias=True)\n",
              "  (fc2): Linear(in_features=120, out_features=84, bias=True)\n",
              "  (fc3): Linear(in_features=84, out_features=10, bias=True)\n",
              ")"
            ]
          },
          "execution_count": 23,
          "metadata": {},
          "output_type": "execute_result"
        }
      ],
      "source": [
        "model.eval()"
      ]
    },
    {
      "cell_type": "code",
      "execution_count": null,
      "metadata": {
        "tags": [],
        "id": "itDBa5u7eViS"
      },
      "outputs": [],
      "source": [
        "# 定义输入的数据模型\n",
        "\n",
        "class Item(BaseModel):\n",
        "    img_base64: str"
      ]
    },
    {
      "cell_type": "code",
      "execution_count": null,
      "metadata": {
        "tags": [],
        "id": "sJLqzf3-eViS"
      },
      "outputs": [],
      "source": [
        "@app.post(\"/predict\")\n",
        "def predict(item: Item):\n",
        "    # 对输入的base64图片进行解码和处理\n",
        "    # 将base64编码的字符串解码回原始的二进制图像数据\n",
        "    img = base64.b64decode(item.img_base64)\n",
        "    # 将二进制图像数据转换为一个PIL的Image对象\n",
        "    img = Image.open(io.BytesIO(img))\n",
        "    # 定义transform\n",
        "    transform = transforms.Compose([\n",
        "        transforms.ToTensor(),\n",
        "        transforms.Resize((32,32)),\n",
        "        transforms.Normalize((0.5, 0.5, 0.5), (0.5, 0.5, 0.5))\n",
        "    ])\n",
        "    # 图片预处理\n",
        "    img = transform(img).unsqueeze(0).to(device)\n",
        "\n",
        "    # 进行推理\n",
        "    output = model(img)\n",
        "\n",
        "    # 预测结果\n",
        "    # pred = output.argmax(dim=1, keepdim=True)\n",
        "    pred = torch.argmax(output, dim=1, keepdim=True)\n",
        "\n",
        "    class_name = classes[pred]\n",
        "\n",
        "    return {\"prediction\" : int(pred), \"class_name\": class_name}"
      ]
    },
    {
      "cell_type": "code",
      "execution_count": null,
      "metadata": {
        "id": "KuLqTVrYeViT"
      },
      "outputs": [],
      "source": []
    },
    {
      "cell_type": "markdown",
      "metadata": {
        "id": "vqWRxnr8eViT"
      },
      "source": [
        "## 7. test by requests"
      ]
    },
    {
      "cell_type": "code",
      "execution_count": null,
      "metadata": {
        "tags": [],
        "id": "zu1wpttteViT"
      },
      "outputs": [],
      "source": [
        "import requests\n",
        "import base64\n",
        "import json\n",
        "from PIL import Image"
      ]
    },
    {
      "cell_type": "code",
      "execution_count": null,
      "metadata": {
        "tags": [],
        "id": "cxeLw6YDeVii"
      },
      "outputs": [],
      "source": [
        "# 打开图像\n",
        "\n",
        "with open(\"test_images/img01.jpg\", \"rb\") as f:\n",
        "    img_bytes = f.read()"
      ]
    },
    {
      "cell_type": "code",
      "execution_count": null,
      "metadata": {
        "tags": [],
        "id": "PA_oNL1yeVij"
      },
      "outputs": [],
      "source": [
        "# 转换为 base64 编码\n",
        "\n",
        "img_b64 = base64.b64encode(img_bytes).decode(\"utf-8\")\n"
      ]
    },
    {
      "cell_type": "code",
      "execution_count": null,
      "metadata": {
        "tags": [],
        "id": "TC55b4bOeVij"
      },
      "outputs": [],
      "source": [
        "# 方式-1 ： 启动服务后，发送 POST 请求\n",
        "\n",
        "# response = requests.post(\"http://localhost:8000/predict\", json= {\"img_base64\": img_b64})"
      ]
    },
    {
      "cell_type": "code",
      "execution_count": null,
      "metadata": {
        "tags": [],
        "id": "UAPqwiggeVij",
        "outputId": "07581ed7-ede8-4334-b2a4-4407abac7f4e"
      },
      "outputs": [
        {
          "name": "stdout",
          "output_type": "stream",
          "text": [
            "{'prediction': 9, 'class_name': 'truck'}\n"
          ]
        },
        {
          "name": "stderr",
          "output_type": "stream",
          "text": [
            "/root/miniconda3/lib/python3.8/site-packages/torchvision/transforms/functional.py:1603: UserWarning: The default value of the antialias parameter of all the resizing transforms (Resize(), RandomResizedCrop(), etc.) will change from None to True in v0.17, in order to be consistent across the PIL and Tensor backends. To suppress this warning, directly pass antialias=True (recommended, future default), antialias=None (current default, which means False for Tensors and True for PIL), or antialias=False (only works on Tensors - PIL will still use antialiasing). This also applies if you are using the inference transforms from the models weights: update the call to weights.transforms(antialias=True).\n",
            "  warnings.warn(\n"
          ]
        }
      ],
      "source": [
        "# 方式-2 ： 直接通过函数传参实现\n",
        "\n",
        "item = Item(img_base64 = img_b64)\n",
        "\n",
        "\n",
        "print(predict(item))"
      ]
    },
    {
      "cell_type": "code",
      "execution_count": null,
      "metadata": {
        "id": "OH7F2w40eVik"
      },
      "outputs": [],
      "source": []
    }
  ],
  "metadata": {
    "kernelspec": {
      "display_name": "Python 3 (ipykernel)",
      "language": "python",
      "name": "python3"
    },
    "language_info": {
      "codemirror_mode": {
        "name": "ipython",
        "version": 3
      },
      "file_extension": ".py",
      "mimetype": "text/x-python",
      "name": "python",
      "nbconvert_exporter": "python",
      "pygments_lexer": "ipython3",
      "version": "3.8.10"
    },
    "colab": {
      "provenance": [],
      "toc_visible": true,
      "include_colab_link": true
    }
  },
  "nbformat": 4,
  "nbformat_minor": 0
}